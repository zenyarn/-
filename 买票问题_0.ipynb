{
 "cells": [
  {
   "cell_type": "code",
   "execution_count": 9,
   "metadata": {},
   "outputs": [
    {
     "name": "stdout",
     "output_type": "stream",
     "text": [
      "20160\n"
     ]
    }
   ],
   "source": [
    "def count_sequences(n: int, m: int) -> int:\n",
    "    # 初始化 DP 数组，dp[i][j] 表示 i 个 5 元和 j 个 10 元时的排列数\n",
    "    dp = [[0] * (m + 1) for _ in range(n + 1)]\n",
    "    \n",
    "    # 初始条件：如果没有 10 元的人，任何排列都是合法的\n",
    "    for i in range(n + 1):\n",
    "        dp[i][0] = 1\n",
    "    \n",
    "    # 填充 DP 表\n",
    "    for i in range(1, n + 1):\n",
    "        for j in range(1, m + 1):\n",
    "            if i >= j:  # 确保 5 元的人数不少于 10 元的人数\n",
    "                dp[i][j] = dp[i-1][j] + dp[i][j-1]\n",
    "    \n",
    "    return dp[n][m]\n",
    "\n",
    "def factorial(n: int) -> int:\n",
    "    if n == 0:\n",
    "        return 1\n",
    "    else:\n",
    "        return n * factorial(n-1)\n",
    "\n",
    "def main():\n",
    "    n = int(input())\n",
    "    m = int(input())\n",
    "\n",
    "    print(factorial(n) * factorial(m) * count_sequences(n, m))  # 输出应该为 5\n",
    "\n",
    "main()"
   ]
  },
  {
   "cell_type": "code",
   "execution_count": 8,
   "metadata": {},
   "outputs": [
    {
     "name": "stdout",
     "output_type": "stream",
     "text": [
      "20160\n"
     ]
    }
   ],
   "source": [
    "n = 5\n",
    "m = 3\n",
    "print(factorial(n) * factorial(m) * count_sequences(n, m))  # 输出应该为 5"
   ]
  },
  {
   "cell_type": "code",
   "execution_count": 6,
   "metadata": {},
   "outputs": [
    {
     "name": "stdout",
     "output_type": "stream",
     "text": [
      "7808493736285054490617457563685000616783524531556170923710322111330291583796072702181230534772124989150269427118016226042154879111313238663979471534186434961519434230403597200370267217266558867539125388517366666256080507202260345081955685568391820824161596607976035333269564672318518060023284166918774048734879105185187102720000000000000000000000000000000000000000000000000\n"
     ]
    }
   ],
   "source": [
    "n = 100\n",
    "m = 100\n",
    "print(factorial(n) * factorial(m) * count_sequences(n, m))  # 输出应该为 5"
   ]
  },
  {
   "cell_type": "code",
   "execution_count": null,
   "metadata": {},
   "outputs": [],
   "source": []
  }
 ],
 "metadata": {
  "kernelspec": {
   "display_name": "base",
   "language": "python",
   "name": "python3"
  },
  "language_info": {
   "codemirror_mode": {
    "name": "ipython",
    "version": 3
   },
   "file_extension": ".py",
   "mimetype": "text/x-python",
   "name": "python",
   "nbconvert_exporter": "python",
   "pygments_lexer": "ipython3",
   "version": "3.11.5"
  }
 },
 "nbformat": 4,
 "nbformat_minor": 2
}
